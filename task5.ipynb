{
  "nbformat": 4,
  "nbformat_minor": 0,
  "metadata": {
    "colab": {
      "provenance": [],
      "authorship_tag": "ABX9TyMtNPxDg6Yzlib+hHQa3Urp",
      "include_colab_link": true
    },
    "kernelspec": {
      "name": "python3",
      "display_name": "Python 3"
    },
    "language_info": {
      "name": "python"
    }
  },
  "cells": [
    {
      "cell_type": "markdown",
      "metadata": {
        "id": "view-in-github",
        "colab_type": "text"
      },
      "source": [
        "<a href=\"https://colab.research.google.com/github/2303a51455/CODESOFT/blob/main/task5.ipynb\" target=\"_parent\"><img src=\"https://colab.research.google.com/assets/colab-badge.svg\" alt=\"Open In Colab\"/></a>"
      ]
    },
    {
      "cell_type": "markdown",
      "source": [
        "contact book"
      ],
      "metadata": {
        "id": "DFCn17nnV91K"
      }
    },
    {
      "cell_type": "markdown",
      "source": [
        "Contact Information: Store name, phone number, email, and address for each contact.\n",
        "Add Contact: Allow users to add new contacts with their details.\n",
        "View Contact List: Display a list of all saved contacts with names and phone numbers.\n",
        "Search Contact: Implement a search function to find contacts by name or phone number.\n",
        "Update Contact: Enable users to update contact details.\n",
        "Delete Contact: Provide an option to delete a contact.\n",
        "User Interface: Design a user-friendly interface for easy interaction."
      ],
      "metadata": {
        "id": "UgnfPWgxV7yB"
      }
    },
    {
      "cell_type": "code",
      "execution_count": null,
      "metadata": {
        "colab": {
          "base_uri": "https://localhost:8080/"
        },
        "id": "wKGqFD13V3b9",
        "outputId": "4134ae22-b5f0-494f-d918-90c057091217"
      },
      "outputs": [
        {
          "output_type": "stream",
          "name": "stdout",
          "text": [
            "\n",
            "Contact Manager\n",
            "1. Add Contact\n",
            "2. View Contacts\n",
            "3. Search Contact\n",
            "4. Update Contact\n",
            "5. Delete Contact\n",
            "6. Exit\n"
          ]
        }
      ],
      "source": [
        "import os\n",
        "def load_contacts(filename=\"contacts.txt\"):\n",
        "    contacts = []\n",
        "    if os.path.exists(filename):\n",
        "        with open(filename, \"r\") as file:\n",
        "            contacts = file.readlines()\n",
        "        contacts = [parse_contact(line.strip()) for line in contacts]\n",
        "    return contacts\n",
        "\n",
        "def save_contacts(contacts, filename=\"contacts.txt\"):\n",
        "    with open(filename, \"w\") as file:\n",
        "        for contact in contacts:\n",
        "            file.write(format_contact(contact) + \"\\n\")\n",
        "\n",
        "def parse_contact(contact_str):\n",
        "    name, phone, email, address = contact_str.split(\", \")\n",
        "    return {\"name\": name, \"phone\": phone, \"email\": email, \"address\": address}\n",
        "\n",
        "def format_contact(contact):\n",
        "    return f\"{contact['name']}, {contact['phone']}, {contact['email']}, {contact['address']}\"\n",
        "\n",
        "def is_valid_phone(phone):\n",
        "\n",
        "    return phone.isdigit() and len(phone) >= 10 and len(phone) <= 15\n",
        "\n",
        "def is_valid_email(email):\n",
        "\n",
        "    return \"@\" in email and \".\" in email\n",
        "\n",
        "def add_contact(contacts):\n",
        "    name = input(\"Enter Name: \")\n",
        "    phone = input(\"Enter Phone Number: \")\n",
        "    if not is_valid_phone(phone):\n",
        "        print(\"Invalid phone number. Please enter a number with 10-15 digits.\")\n",
        "        return\n",
        "    email = input(\"Enter Email: \")\n",
        "    if not is_valid_email(email):\n",
        "        print(\"Invalid email format. Please try again.\")\n",
        "        return\n",
        "    address = input(\"Enter Address: \")\n",
        "\n",
        "    # Check for duplicate contacts\n",
        "    for contact in contacts:\n",
        "        if contact['name'] == name or contact['phone'] == phone:\n",
        "            print(\"Contact with this name or phone number already exists.\")\n",
        "            return\n",
        "\n",
        "    contacts.append({\"name\": name, \"phone\": phone, \"email\": email, \"address\": address})\n",
        "    save_contacts(contacts)\n",
        "    print(\"Contact added successfully!\\n\")\n",
        "\n",
        "def view_contacts(contacts):\n",
        "    if not contacts:\n",
        "        print(\"No contacts available.\\n\")\n",
        "        return\n",
        "    print(\"Contact List:\")\n",
        "    for idx, contact in enumerate(contacts, start=1):\n",
        "        print(f\"{idx}. {contact['name']} - {contact['phone']}\")\n",
        "    print()\n",
        "\n",
        "def search_contact(contacts):\n",
        "    query = input(\"Enter Name or Phone Number to search: \")\n",
        "    found = [c for c in contacts if query in (c['name'], c['phone'])]\n",
        "    if found:\n",
        "        for contact in found:\n",
        "            print(f\"Name: {contact['name']}, Phone: {contact['phone']}, Email: {contact['email']}, Address: {contact['address']}\")\n",
        "    else:\n",
        "        print(\"No contact found.\\n\")\n",
        "\n",
        "def update_contact(contacts):\n",
        "    query = input(\"Enter Name or Phone Number of the contact to update: \")\n",
        "    for contact in contacts:\n",
        "        if query in (contact['name'], contact['phone']):\n",
        "            contact['name'] = input(f\"Enter new name ({contact['name']}): \") or contact['name']\n",
        "            contact['phone'] = input(f\"Enter new phone ({contact['phone']}): \") or contact['phone']\n",
        "            contact['email'] = input(f\"Enter new email ({contact['email']}): \") or contact['email']\n",
        "            contact['address'] = input(f\"Enter new address ({contact['address']}): \") or contact['address']\n",
        "            save_contacts(contacts)\n",
        "            print(\"Contact updated successfully!\\n\")\n",
        "            return\n",
        "    print(\"Contact not found.\\n\")\n",
        "\n",
        "def delete_contact(contacts):\n",
        "    query = input(\"Enter Name or Phone Number of the contact to delete: \")\n",
        "    for contact in contacts:\n",
        "        if query in (contact['name'], contact['phone']):\n",
        "            contacts.remove(contact)\n",
        "            save_contacts(contacts)\n",
        "            print(\"Contact deleted successfully!\\n\")\n",
        "            return\n",
        "    print(\"Contact not found.\\n\")\n",
        "\n",
        "def run():\n",
        "    filename = \"contacts.txt\"\n",
        "    contacts = load_contacts(filename)\n",
        "\n",
        "    while True:\n",
        "        print(\"\\nContact Manager\")\n",
        "        print(\"1. Add Contact\")\n",
        "        print(\"2. View Contacts\")\n",
        "        print(\"3. Search Contact\")\n",
        "        print(\"4. Update Contact\")\n",
        "        print(\"5. Delete Contact\")\n",
        "        print(\"6. Exit\")\n",
        "        choice = input(\"Enter your choice: \")\n",
        "\n",
        "        if choice == '1':\n",
        "            add_contact(contacts)\n",
        "        elif choice == '2':\n",
        "            view_contacts(contacts)\n",
        "        elif choice == '3':\n",
        "            search_contact(contacts)\n",
        "        elif choice == '4':\n",
        "            update_contact(contacts)\n",
        "        elif choice == '5':\n",
        "            delete_contact(contacts)\n",
        "        elif choice == '6':\n",
        "            print(\"Exiting Contact Manager. Goodbye!\")\n",
        "            break\n",
        "        else:\n",
        "            print(\"Invalid choice! Please try again.\\n\")\n",
        "\n",
        "run()\n"
      ]
    }
  ]
}