{
  "nbformat": 4,
  "nbformat_minor": 0,
  "metadata": {
    "colab": {
      "provenance": [],
      "authorship_tag": "ABX9TyMNaWBcYdEXQRpJKU34Xm3R",
      "include_colab_link": true
    },
    "kernelspec": {
      "name": "python3",
      "display_name": "Python 3"
    },
    "language_info": {
      "name": "python"
    }
  },
  "cells": [
    {
      "cell_type": "markdown",
      "metadata": {
        "id": "view-in-github",
        "colab_type": "text"
      },
      "source": [
        "<a href=\"https://colab.research.google.com/github/2303a51455/CODESOFT/blob/main/task2.ipynb\" target=\"_parent\"><img src=\"https://colab.research.google.com/assets/colab-badge.svg\" alt=\"Open In Colab\"/></a>"
      ]
    },
    {
      "cell_type": "markdown",
      "source": [
        "simple calculator:-"
      ],
      "metadata": {
        "id": "k5hY5fl9Qj-v"
      }
    },
    {
      "cell_type": "markdown",
      "source": [
        "Design a simple calculator with basic arithmetic operations.\n",
        "Prompt the user to input two numbers and an operation choice.\n",
        "Perform the calculation and display the result."
      ],
      "metadata": {
        "id": "x4zsTsJBSAPC"
      }
    },
    {
      "cell_type": "code",
      "execution_count": null,
      "metadata": {
        "colab": {
          "base_uri": "https://localhost:8080/"
        },
        "id": "k_tY56m7PdFJ",
        "outputId": "2f7a0194-6a91-4ea1-f4c8-9f1516ecfc15"
      },
      "outputs": [
        {
          "output_type": "stream",
          "name": "stdout",
          "text": [
            "\n",
            "Simple Calculator\n",
            "-----------------\n",
            "Select operation:\n",
            "1. Addition (+)\n",
            "2. Subtraction (-)\n",
            "3. Multiplication (*)\n",
            "4. Division (/)\n"
          ]
        }
      ],
      "source": [
        "def calculator():\n",
        "    print(\"\\nSimple Calculator\")\n",
        "    print(\"-----------------\")\n",
        "    print(\"Select operation:\")\n",
        "    print(\"1. Addition (+)\")\n",
        "    print(\"2. Subtraction (-)\")\n",
        "    print(\"3. Multiplication (*)\")\n",
        "    print(\"4. Division (/)\")\n",
        "\n",
        "    choice = input(\"Enter choice (1/2/3/4): \")\n",
        "\n",
        "    if choice not in ('1', '2', '3', '4'):\n",
        "        print(\"Invalid choice! Please select a valid operation.\")\n",
        "        return\n",
        "\n",
        "    num1 = float(input(\"Enter first number: \"))\n",
        "    num2 = float(input(\"Enter second number: \"))\n",
        "\n",
        "    if choice == '1':\n",
        "        result = num1 + num2\n",
        "        operation = '+'\n",
        "    elif choice == '2':\n",
        "        result = num1 - num2\n",
        "        operation = '-'\n",
        "    elif choice == '3':\n",
        "        result = num1 * num2\n",
        "        operation = '*'\n",
        "    elif choice == '4':\n",
        "        if num2 == 0:\n",
        "            print(\"Error! Division by zero is not allowed.\")\n",
        "            return\n",
        "        result = num1 / num2\n",
        "        operation = '/'\n",
        "\n",
        "    print(f\"Result: {num1} {operation} {num2} = {result}\")\n",
        "\n",
        "\n",
        "calculator()\n"
      ]
    }
  ]
}