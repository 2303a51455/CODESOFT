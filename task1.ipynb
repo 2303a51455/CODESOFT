{
  "nbformat": 4,
  "nbformat_minor": 0,
  "metadata": {
    "colab": {
      "provenance": [],
      "authorship_tag": "ABX9TyMKTWNbfgWFDP9DDt5QjHzK",
      "include_colab_link": true
    },
    "kernelspec": {
      "name": "python3",
      "display_name": "Python 3"
    },
    "language_info": {
      "name": "python"
    }
  },
  "cells": [
    {
      "cell_type": "markdown",
      "metadata": {
        "id": "view-in-github",
        "colab_type": "text"
      },
      "source": [
        "<a href=\"https://colab.research.google.com/github/2303a51455/CODESOFT/blob/main/task1.ipynb\" target=\"_parent\"><img src=\"https://colab.research.google.com/assets/colab-badge.svg\" alt=\"Open In Colab\"/></a>"
      ]
    },
    {
      "cell_type": "markdown",
      "source": [
        "to-do-list"
      ],
      "metadata": {
        "id": "-U8zXIYXSgWE"
      }
    },
    {
      "cell_type": "code",
      "execution_count": null,
      "metadata": {
        "id": "26kI7erDSURq"
      },
      "outputs": [],
      "source": [
        "A To-Do List application is a useful project that helps users manage\n",
        "and organize their tasks efficiently. This project aims to create a\n",
        "command-line or GUI-based application using Python, allowing\n",
        "users to create, update, and track their to-do lists"
      ]
    },
    {
      "cell_type": "code",
      "source": [
        "import os\n",
        "\n",
        "def load_tasks(filename=\"tasks.txt\"):\n",
        "    tasks = []\n",
        "    # Check if the file exists before opening it\n",
        "    if os.path.exists(filename):\n",
        "        with open(filename, \"r\") as file:\n",
        "            tasks = file.readlines()\n",
        "    return tasks\n",
        "\n",
        "def save_tasks(tasks, filename=\"tasks.txt\"):\n",
        "    with open(filename, \"w\") as file:\n",
        "        for task in tasks:\n",
        "            file.write(task.strip() + \"\\n\")\n",
        "\n",
        "def display_tasks(tasks):\n",
        "    if not tasks:\n",
        "        print(\"No tasks in your to-do list.\\n\")\n",
        "    else:\n",
        "        print(\"\\nYour To-Do List:\")\n",
        "        for idx, task in enumerate(tasks, start=1):\n",
        "            print(f\"{idx}. {task}\")\n",
        "        print()\n",
        "\n",
        "def add_task(tasks):\n",
        "    task = input(\"Enter a task: \")\n",
        "    tasks.append(task)\n",
        "    save_tasks(tasks)\n",
        "    print(f\"Task '{task}' added successfully!\\n\")\n",
        "\n",
        "def update_task(tasks):\n",
        "    display_tasks(tasks)\n",
        "    task_index = input(\"Enter the number of the task to update: \")\n",
        "    if task_index.isdigit():\n",
        "        task_index = int(task_index) - 1\n",
        "        if 0 <= task_index < len(tasks):\n",
        "            new_task = input(f\"Enter the new task (old task: '{tasks[task_index]}'): \")\n",
        "            tasks[task_index] = new_task\n",
        "            save_tasks(tasks)\n",
        "            print(f\"Task updated to '{new_task}'\\n\")\n",
        "        else:\n",
        "            print(\"Invalid task number.\\n\")\n",
        "    else:\n",
        "        print(\"Invalid input. Please enter a valid task number.\\n\")\n",
        "\n",
        "def delete_task(tasks):\n",
        "    display_tasks(tasks)\n",
        "    task_index = input(\"Enter the number of the task to delete: \")\n",
        "    if task_index.isdigit():\n",
        "        task_index = int(task_index) - 1\n",
        "        if 0 <= task_index < len(tasks):\n",
        "            removed_task = tasks.pop(task_index)\n",
        "            save_tasks(tasks)\n",
        "            print(f\"Task '{removed_task}' deleted successfully!\\n\")\n",
        "        else:\n",
        "            print(\"Invalid task number.\\n\")\n",
        "    else:\n",
        "        print(\"Invalid input. Please enter a valid task number.\\n\")\n",
        "\n",
        "def run():\n",
        "    tasks = load_tasks()\n",
        "\n",
        "    while True:\n",
        "        print(\"\\nTo-Do List Application\")\n",
        "        print(\"1. View Tasks\")\n",
        "        print(\"2. Add Task\")\n",
        "        print(\"3. Update Task\")\n",
        "        print(\"4. Delete Task\")\n",
        "        print(\"5. Exit\")\n",
        "        choice = input(\"Enter your choice: \")\n",
        "\n",
        "        if choice == '1':\n",
        "            display_tasks(tasks)\n",
        "        elif choice == '2':\n",
        "            add_task(tasks)\n",
        "        elif choice == '3':\n",
        "            update_task(tasks)\n",
        "        elif choice == '4':\n",
        "            delete_task(tasks)\n",
        "        elif choice == '5':\n",
        "            print(\"Exiting To-Do List Application. Goodbye!\")\n",
        "            break\n",
        "        else:\n",
        "            print(\"Invalid choice! Please try again.\\n\")\n",
        "\n",
        "run()\n"
      ],
      "metadata": {
        "colab": {
          "base_uri": "https://localhost:8080/"
        },
        "id": "f1fgAfSMT9kM",
        "outputId": "bf4c0ccc-594f-48ce-f964-687041201f7d"
      },
      "execution_count": null,
      "outputs": [
        {
          "output_type": "stream",
          "name": "stdout",
          "text": [
            "\n",
            "To-Do List Application\n",
            "1. View Tasks\n",
            "2. Add Task\n",
            "3. Update Task\n",
            "4. Delete Task\n",
            "5. Exit\n"
          ]
        }
      ]
    }
  ]
}